{
 "cells": [
  {
   "cell_type": "code",
   "execution_count": null,
   "id": "014a58e8",
   "metadata": {},
   "outputs": [
    {
     "name": "stdout",
     "output_type": "stream",
     "text": [
      "1505 es divisible entre 7y múltiplo de5\n",
      "1540 es divisible entre 7y múltiplo de5\n",
      "1575 es divisible entre 7y múltiplo de5\n",
      "1610 es divisible entre 7y múltiplo de5\n",
      "1645 es divisible entre 7y múltiplo de5\n",
      "1680 es divisible entre 7y múltiplo de5\n",
      "1715 es divisible entre 7y múltiplo de5\n",
      "1750 es divisible entre 7y múltiplo de5\n",
      "1785 es divisible entre 7y múltiplo de5\n",
      "1820 es divisible entre 7y múltiplo de5\n",
      "1855 es divisible entre 7y múltiplo de5\n",
      "1890 es divisible entre 7y múltiplo de5\n",
      "1925 es divisible entre 7y múltiplo de5\n",
      "1960 es divisible entre 7y múltiplo de5\n",
      "1995 es divisible entre 7y múltiplo de5\n",
      "2030 es divisible entre 7y múltiplo de5\n",
      "2065 es divisible entre 7y múltiplo de5\n",
      "2100 es divisible entre 7y múltiplo de5\n",
      "2135 es divisible entre 7y múltiplo de5\n",
      "2170 es divisible entre 7y múltiplo de5\n",
      "2205 es divisible entre 7y múltiplo de5\n",
      "2240 es divisible entre 7y múltiplo de5\n",
      "2275 es divisible entre 7y múltiplo de5\n",
      "2310 es divisible entre 7y múltiplo de5\n",
      "2345 es divisible entre 7y múltiplo de5\n",
      "2380 es divisible entre 7y múltiplo de5\n",
      "2415 es divisible entre 7y múltiplo de5\n",
      "2450 es divisible entre 7y múltiplo de5\n",
      "2485 es divisible entre 7y múltiplo de5\n",
      "2520 es divisible entre 7y múltiplo de5\n",
      "2555 es divisible entre 7y múltiplo de5\n",
      "2590 es divisible entre 7y múltiplo de5\n",
      "2625 es divisible entre 7y múltiplo de5\n",
      "2660 es divisible entre 7y múltiplo de5\n",
      "2695 es divisible entre 7y múltiplo de5\n"
     ]
    }
   ],
   "source": [
    "#EJERCICIO 1\n",
    "\n",
    "for i in range(1500,2701):\n",
    "    if i%7==0 and i%5==0:\n",
    "        print(i,\"es divisible entre 7 y múltiplo de5\")\n",
    "    "
   ]
  },
  {
   "cell_type": "code",
   "execution_count": 71,
   "id": "7f325e91",
   "metadata": {},
   "outputs": [
    {
     "name": "stdout",
     "output_type": "stream",
     "text": [
      "     *\n",
      "    **\n",
      "   ***\n",
      "  ****\n",
      "   ***\n",
      "    **\n",
      "     *\n"
     ]
    }
   ],
   "source": [
    "h=5\n",
    "for i in range(1,h):\n",
    "    print(' '*(5-i),'*'*(i),)\n",
    "n=4\n",
    "for m in range(1,n):\n",
    "    print(' '*(m+1),'*'*(n-m))"
   ]
  },
  {
   "cell_type": "code",
   "execution_count": null,
   "id": "18dbf6d8",
   "metadata": {},
   "outputs": [
    {
     "name": "stdout",
     "output_type": "stream",
     "text": [
      "*\n",
      "**\n",
      "***\n",
      "****\n",
      "*****\n",
      "****\n",
      "***\n",
      "**\n",
      "*\n"
     ]
    }
   ],
   "source": [
    "#EJERCICIO 2\n",
    "d =6\n",
    "for j in range(1,d):\n",
    "    print('*'*(j))\n",
    "\n",
    "e=5\n",
    "for i in range(1,e):\n",
    "    print('*'*(e-i))"
   ]
  },
  {
   "cell_type": "code",
   "execution_count": null,
   "id": "564c339a",
   "metadata": {},
   "outputs": [
    {
     "name": "stdout",
     "output_type": "stream",
     "text": [
      "el numero es 565\n",
      "respuesta ingresada invalida\n",
      "respuesta ingresada invalida\n",
      "respuesta ingresada invalida\n",
      "respuesta ingresada invalida\n"
     ]
    }
   ],
   "source": [
    "#EJERCICIO 3\n",
    "while True: \n",
    "    rpta = input(\"¿Desea ingrresar un numero?\").upper()\n",
    "    if rpta == \"SI\" :\n",
    "        try : \n",
    "            num = int(input(\"Ingresar un numero\"))\n",
    "            print (\"el numero es\" , num)\n",
    "        except ValueError:\n",
    "            print(\"el numero ingresado no es correcto, ingrese denuevo\")\n",
    "            continue \n",
    "    elif rpta == \"NO\" :\n",
    "        break \n",
    "    else :\n",
    "        print('respuesta ingresada invalida')"
   ]
  },
  {
   "cell_type": "code",
   "execution_count": 10,
   "id": "c2c4b5ae",
   "metadata": {},
   "outputs": [
    {
     "name": "stdout",
     "output_type": "stream",
     "text": [
      "{'candy': [14.0, 20.0, 14.0, 20.0, 14.0, 12.0]}\n"
     ]
    }
   ],
   "source": [
    "#ejercicio 4\n",
    "n = int(input(\"ingrese la cantidad de alumnos\"))\n",
    "notas = []\n",
    "\n",
    "for i in range(1,n+1):\n",
    "    nomnbre = input(f\"ingrese el nombre del alumno {i}\")\n",
    "\n",
    "    for j in range(1,4):\n",
    "        nota_curso = float(input(f\"ingrese la nota {j}\"))\n",
    "        notas.append(nota_curso)\n",
    "\n",
    "notas_listads = {nomnbre : notas}\n",
    "print(notas_listads)\n",
    "    \n",
    "\n",
    "\n",
    "    "
   ]
  },
  {
   "cell_type": "code",
   "execution_count": null,
   "id": "880462cd",
   "metadata": {},
   "outputs": [
    {
     "name": "stdout",
     "output_type": "stream",
     "text": [
      "Alumno 1\n",
      "Alumno: jean, Notas: [1.0, 2.0, 3.0]\n"
     ]
    }
   ],
   "source": [
    "#pregunta 4\n",
    "alumnos = []\n",
    "\n",
    "n = int(input(\"¿Cuántos alumnos desea registrar?: \"))\n",
    "\n",
    "for i in range(n):\n",
    "    print(f\"Alumno {i + 1}\")\n",
    "    nombre = input(\"Nombre del alumno: \")\n",
    "    notas = []\n",
    "    for j in range(3):\n",
    "        while True:\n",
    "            try:\n",
    "                nota = float(input(f\"Ingrese la nota {j + 1} de {nombre}: \"))\n",
    "                if 0 <= nota <= 20:\n",
    "                    notas.append(nota)\n",
    "                    break\n",
    "                else:\n",
    "                    print(\"La nota debe estar entre 0 y 20.\")\n",
    "            except ValueError:\n",
    "                print(\"Debe ingresar un número válido.\")\n",
    "    alumno = {\"Alumno\": nombre,\"Notas\": notas}\n",
    "    alumnos.append(alumno)\n",
    "for a in alumnos:\n",
    "    print(f\"Alumno: {a['Alumno']}, Notas: {a['Notas']}\")\n"
   ]
  },
  {
   "cell_type": "code",
   "execution_count": 65,
   "id": "abab2bae",
   "metadata": {},
   "outputs": [
    {
     "ename": "TypeError",
     "evalue": "'builtin_function_or_method' object is not iterable",
     "output_type": "error",
     "traceback": [
      "\u001b[31m---------------------------------------------------------------------------\u001b[39m",
      "\u001b[31mTypeError\u001b[39m                                 Traceback (most recent call last)",
      "\u001b[36mCell\u001b[39m\u001b[36m \u001b[39m\u001b[32mIn[65]\u001b[39m\u001b[32m, line 17\u001b[39m\n\u001b[32m     13\u001b[39m         notas.append(nn)\n\u001b[32m     15\u001b[39m     alumnos[name]=notas\n\u001b[32m---> \u001b[39m\u001b[32m17\u001b[39m \u001b[38;5;28;43;01mfor\u001b[39;49;00m\u001b[43m \u001b[49m\u001b[43mnombre\u001b[49m\u001b[43m,\u001b[49m\u001b[43mnotas\u001b[49m\u001b[43m \u001b[49m\u001b[38;5;129;43;01min\u001b[39;49;00m\u001b[43m \u001b[49m\u001b[43malumnos\u001b[49m\u001b[43m.\u001b[49m\u001b[43mitems\u001b[49m\u001b[43m:\u001b[49m\n\u001b[32m     18\u001b[39m \u001b[43m    \u001b[49m\u001b[38;5;28;43mprint\u001b[39;49m\u001b[43m(\u001b[49m\u001b[33;43mf\u001b[39;49m\u001b[33;43m'\u001b[39;49m\u001b[38;5;132;43;01m{\u001b[39;49;00m\u001b[43mnombre\u001b[49m\u001b[38;5;132;43;01m}\u001b[39;49;00m\u001b[33;43m:\u001b[39;49m\u001b[38;5;132;43;01m{\u001b[39;49;00m\u001b[43mnotas\u001b[49m\u001b[38;5;132;43;01m}\u001b[39;49;00m\u001b[33;43m'\u001b[39;49m\u001b[43m)\u001b[49m\n\u001b[32m     20\u001b[39m alumnos\n",
      "\u001b[31mTypeError\u001b[39m: 'builtin_function_or_method' object is not iterable"
     ]
    }
   ],
   "source": [
    "n = int(input(\"Ingrese la cantidad de alumnos:\"))\n",
    "alumnos = {}\n",
    "nombres = []\n",
    "for i in range(n):\n",
    "    name = input(f\"ingrese el nombre del alumno {i+1}\")\n",
    "    nombres.append(name)\n",
    "\n",
    "    notas = []\n",
    "    nn = []\n",
    "    for j in range(1,4):\n",
    "        \n",
    "        nn=float(input(f\"ingrerse la nota del alumno\"))\n",
    "        notas.append(nn)\n",
    "        \n",
    "    alumnos[name]=notas\n",
    "\n",
    "for nombre,notas in alumnos.items:\n",
    "    print(f'{nombre}:{notas}')\n",
    "\n",
    "alumnos\n",
    "\n",
    "   "
   ]
  },
  {
   "cell_type": "code",
   "execution_count": 2,
   "id": "04c54e54",
   "metadata": {},
   "outputs": [],
   "source": [
    "def funcion(numero,digito):\n",
    "    numero = int(input(\"ingrese un numero\"))\n",
    "    digito = int(input(\"ingrese el digito a contar\"))\n",
    "    numero.count(digito)"
   ]
  },
  {
   "cell_type": "code",
   "execution_count": null,
   "id": "9e76a93e",
   "metadata": {},
   "outputs": [],
   "source": [
    "#pregunta 5\n",
    "def contar_digito(numero,digito):\n",
    "    numero_str = str(numero)\n",
    "    digito_str = str(digito)\n",
    "    return numero_str.count(digito_str)\n"
   ]
  },
  {
   "cell_type": "code",
   "execution_count": null,
   "id": "037af1d7",
   "metadata": {},
   "outputs": [
    {
     "name": "stdout",
     "output_type": "stream",
     "text": [
      "0 1 1 2 3 5 8 13 21 34 "
     ]
    }
   ],
   "source": [
    "#pregunta 6\n",
    "\n",
    "a, b = 0, 1\n",
    "while a <= 50:\n",
    "    print(a, end=\" \")\n",
    "    a, b = b, a + b\n"
   ]
  },
  {
   "cell_type": "code",
   "execution_count": 19,
   "id": "51ad7cb9",
   "metadata": {},
   "outputs": [
    {
     "name": "stdout",
     "output_type": "stream",
     "text": [
      "True\n"
     ]
    }
   ],
   "source": [
    "#pregunta 7\n",
    "def num_primo(n):\n",
    "    if n <= 1:\n",
    "        return False \n",
    "    for i in range(2, n):\n",
    "        if n % i == 0:\n",
    "            return False\n",
    "    return True \n",
    "\n",
    "print(num_primo(113))\n"
   ]
  },
  {
   "cell_type": "code",
   "execution_count": 25,
   "id": "121c50e4",
   "metadata": {},
   "outputs": [
    {
     "name": "stdout",
     "output_type": "stream",
     "text": [
      "120\n"
     ]
    }
   ],
   "source": [
    "#pregunta 8\n",
    "def factorial(n):\n",
    "    if n < 0:\n",
    "        return \"error\"\n",
    "    resultado = 1\n",
    "    for i in range(1, n + 1):\n",
    "        resultado *= i\n",
    "    return resultado\n",
    "print(factorial(5))\n"
   ]
  },
  {
   "cell_type": "code",
   "execution_count": 26,
   "id": "c90bc67d",
   "metadata": {},
   "outputs": [
    {
     "name": "stdout",
     "output_type": "stream",
     "text": [
      "hl sy jhyr , l dl mv l tt\n"
     ]
    }
   ],
   "source": [
    "#pregunta 9\n",
    "vocales = \"aeiouAEIOU\"\n",
    "texto = input(\"ingrese un texto: \")\n",
    "sin_vocales = \"\"\n",
    "\n",
    "for letra in texto:\n",
    "    if letra not in vocales:\n",
    "        sin_vocales += letra\n",
    "\n",
    "print(sin_vocales)\n"
   ]
  },
  {
   "cell_type": "code",
   "execution_count": null,
   "id": "c366e636",
   "metadata": {},
   "outputs": [],
   "source": [
    "#pregunta10\n",
    "meses = [\"Enero\", \"Febrero\", \"Marzo\", \"Abril\", \"Mayo\", \"Junio\",\"Julio\", \"Agosto\", \"Septiembre\", \"Octubre\", \"Noviembre\", \"Diciembre\"]\n",
    "while True:\n",
    "    fecha = input(\"Ingrese una fecha (MM/DD/AAAA o Mes D, AAAA): \").strip()\n",
    "    try:\n",
    "        if \"/\" in fecha:\n",
    "            partes = fecha.split(\"/\")\n",
    "            mes = int(partes[0])\n",
    "            dia = int(partes[1])\n",
    "            año = int(partes[2])\n",
    "        \n",
    "        else:\n",
    "            partes = fecha.replace(\",\", \"\").split()\n",
    "            mes_texto = partes[0].capitalize()\n",
    "            dia = int(partes[1])\n",
    "            año = int(partes[2])\n",
    "\n",
    "            if mes_texto in meses:\n",
    "                mes = meses.index(mes_texto) + 1\n",
    "            else:\n",
    "                raise ValueError \n",
    "\n",
    "        if 1 <= mes <= 12 and 1 <= dia <= 31:\n",
    "            # Imprimir con formato AAAA-MM-DD\n",
    "            print(f\"{año}-{mes:02}-{dia:02}\")\n",
    "            break\n",
    "        else:\n",
    "            print(\"Fecha inválida. Intente de nuevo.\")\n",
    "    \n",
    "    except (ValueError, IndexError):\n",
    "        print(\"Formato incorrecto. Intente nuevamente.\")\n"
   ]
  }
 ],
 "metadata": {
  "kernelspec": {
   "display_name": ".venv",
   "language": "python",
   "name": "python3"
  },
  "language_info": {
   "codemirror_mode": {
    "name": "ipython",
    "version": 3
   },
   "file_extension": ".py",
   "mimetype": "text/x-python",
   "name": "python",
   "nbconvert_exporter": "python",
   "pygments_lexer": "ipython3",
   "version": "3.12.3"
  }
 },
 "nbformat": 4,
 "nbformat_minor": 5
}
